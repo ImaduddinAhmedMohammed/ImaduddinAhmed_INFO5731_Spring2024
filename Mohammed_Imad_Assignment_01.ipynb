{
  "cells": [
    {
      "cell_type": "markdown",
      "metadata": {
        "id": "view-in-github",
        "colab_type": "text"
      },
      "source": [
        "<a href=\"https://colab.research.google.com/github/ImaduddinAhmedMohammed/ImaduddinAhmed_INFO5731_Spring2024/blob/main/Mohammed_Imad_Assignment_01.ipynb\" target=\"_parent\"><img src=\"https://colab.research.google.com/assets/colab-badge.svg\" alt=\"Open In Colab\"/></a>"
      ]
    },
    {
      "cell_type": "markdown",
      "metadata": {
        "id": "Ryk8D1Q4Wsrp"
      },
      "source": [
        "# **INFO5731 Assignment One**"
      ]
    },
    {
      "cell_type": "markdown",
      "source": [
        "This assignment includes range of programming tasks and data analysis exercises, aiming to enhance your Python skills and proficiency in string manipulation, numerical computations, and data science. Follow the instructions carefully and design well-structured Python programs to address each question.\n",
        "\n",
        "Late Submission will have a penalty of 10% reduction for each day after the deadline."
      ],
      "metadata": {
        "id": "qcP6re2g5A5r"
      }
    },
    {
      "cell_type": "markdown",
      "metadata": {
        "id": "JkzR8cFAyGik"
      },
      "source": [
        "# Question 1 (10 points).\n",
        "\n",
        "The formula that describes the volume V of a hemisphere with radius r is the following:\n",
        "\n",
        "$ V=\\frac{2}{3}\\ast\\ \\pi\\ast\\ r^3 $\n",
        "\n",
        "Write a program to calculate the value of V when r is in the range of even numbers from 1-20. Output the result in the following format:\n",
        "\n",
        "\tr\tV\n",
        "\t2\t…\n",
        "\t4\t…\n",
        "\t6\t…\n",
        "\t.\n",
        "\t.\n",
        "\t.\n",
        "\t20\t…\n"
      ]
    },
    {
      "cell_type": "code",
      "execution_count": null,
      "metadata": {
        "id": "jDyTKYs-yGit",
        "colab": {
          "base_uri": "https://localhost:8080/"
        },
        "outputId": "49342475-5983-43b7-f493-4940a607639a"
      },
      "outputs": [
        {
          "output_type": "stream",
          "name": "stdout",
          "text": [
            "r\tV\n",
            "\n",
            "2\t16.755160819145562\n",
            "4\t134.0412865531645\n",
            "6\t452.38934211693015\n",
            "8\t1072.330292425316\n",
            "10\t2094.3951023931954\n",
            "12\t3619.114736935441\n",
            "14\t5747.0201609669275\n",
            "16\t8578.642339402528\n",
            "18\t12214.512237157114\n",
            "20\t16755.160819145563\n"
          ]
        }
      ],
      "source": [
        "# Your code here\n",
        "import math\n",
        "\n",
        "def volume_hemisphere():\n",
        "  \"\"\"Calculates and prints the value of V for even numbers r from 1 to 20 using the formula V = (2/3) * pi * r**3.\"\"\"\n",
        "  print(\"r\\tV\\n\")\n",
        "  for r in range(2, 21, 2):  # Iterate from 2 to 20 (inclusive) with step 2\n",
        "    v = (2 / 3) * math.pi * r**3\n",
        "    print(f\"{r}\\t{v}\")\n",
        "\n",
        "# Call the function to start the calculation\n",
        "volume_hemisphere()\n",
        "\n"
      ]
    },
    {
      "cell_type": "markdown",
      "metadata": {
        "id": "90_NR8c5XGWc"
      },
      "source": [
        "# Question 2 (20 points)\n",
        "\n",
        "(a) Write a Python program to generate a sequence of 12 random numbers falling within the range of 50 to 150.\n",
        "\n",
        "(b) Arrange the generated numbers in ascending order. Display the sorted list.\n",
        "\n",
        "(c) Extend the program to arrange the numbers in descending order as well. Present the sorted list accordingly.\n",
        "\n",
        "(d) Compute and output the average of the entire group of generated numbers.\n",
        "\n",
        "(e) Enhance the program to calculate and display the average of the first 6 numbers from both the ascending and descending sorted lists."
      ]
    },
    {
      "cell_type": "code",
      "execution_count": null,
      "metadata": {
        "id": "5QX6bJjGWXY9",
        "colab": {
          "base_uri": "https://localhost:8080/"
        },
        "outputId": "8f709faa-d5fc-4d2e-a9be-bf07566a5b70"
      },
      "outputs": [
        {
          "output_type": "stream",
          "name": "stdout",
          "text": [
            "The 12 random Numbers are: [96, 102, 120, 108, 132, 79, 143, 127, 134, 145, 85, 123]\n",
            "Ascending order: [79, 85, 96, 102, 108, 120, 123, 127, 132, 134, 143, 145]\n",
            "Descending order: [145, 143, 134, 132, 127, 123, 120, 108, 102, 96, 85, 79]\n",
            "Average of all numbers: 116.16666666666667\n",
            "Average of first 6 in ascending order: 98.33333333333333\n",
            "Average of first 6 in descending order: 134.0\n"
          ]
        }
      ],
      "source": [
        "# Write code for each of the sub parts with proper comments.\n",
        "#to generate a sequence of 12 random numbers ranging from 50 to 150\n",
        "import random\n",
        "# (a) generating 12 random numbers in range 50 to 150\n",
        "random_numbers=[random.randint(50,150) for _ in range(12)]\n",
        "print(\"The 12 random Numbers are:\", random_numbers)        #printing the random numbers\n",
        "\n",
        "# (b) sorting in ascending order\n",
        "ascending = sorted(random_numbers)\n",
        "print(\"Ascending order:\", ascending)        #printing the list in ascending order\n",
        "\n",
        "# (c) sorting in descending order\n",
        "descending = sorted(random_numbers, reverse=True)\n",
        "print(\"Descending order:\", descending)            #printing the list in descending order\n",
        "\n",
        "# (d) average of all numbers in the list\n",
        "average = sum(random_numbers) / len(random_numbers)\n",
        "print(\"Average of all numbers:\", average)            #printing the average\n",
        "\n",
        "# (e) average of first 6 numbers in ascending and descending order\n",
        "average_ascending_first6 = sum(ascending[:6]) / 6\n",
        "average_descending_first6 = sum(descending[:6]) / 6\n",
        "print(\"Average of first 6 in ascending order:\", average_ascending_first6) #printing the average of first 6 numbers in ascending order\n",
        "print(\"Average of first 6 in descending order:\", average_descending_first6) #printing the average of first 6 numbers in descending order\n"
      ]
    },
    {
      "cell_type": "markdown",
      "metadata": {
        "id": "1F_PZdH9Sh49"
      },
      "source": [
        "\n",
        "# Question 3 (20 points).\n",
        "\n",
        "Create a Python program that encompasses various string manipulation task:\n",
        "\n",
        "(a) Prompt the user to input two sentences.\n",
        "\n",
        "(b) Transform each sentence into a list, where each element corresponds to a word in the sentence. For example, if the sentences are \"Hello, how are you doing today?\" and \"This is an example sentence for the program!\"\n",
        "\n",
        "The program should output:\n",
        "['Hello', ',', 'how', 'are', 'you', 'doing', 'today', '?', 'This', 'is', 'an', 'example', 'sentence', 'for', 'the', 'program', '!']\n",
        "\n",
        "(c) Compare the two sentences. Print out a list of words that occur in both sentences.\n",
        "\n",
        "(d) Remove any punctuation from the sentence and print the sanitized sentences. It should remove at least the following characters, but it can remove more: period(“.”), comma (“,”), semicolon (“;”), and colon (“:”).\n",
        "\n",
        "(e) Count the number of vowels in each of the sentences. Print out each vowel and the occurrences  in the each of the two sentences separately, such as:\n",
        "\n",
        "Sentence1: a:2, e:2, i:0, etc.\n",
        "Sentence2: a:1, e:2, i:2, etc.\n",
        "\n",
        "Design a well-structured Python program to execute these tasks efficiently."
      ]
    },
    {
      "cell_type": "code",
      "execution_count": null,
      "metadata": {
        "id": "Y0oOSlsOS0cq",
        "colab": {
          "base_uri": "https://localhost:8080/"
        },
        "outputId": "bec66fc7-d526-4fd1-e654-9024ce794054"
      },
      "outputs": [
        {
          "output_type": "stream",
          "name": "stdout",
          "text": [
            "Enter the first sentence: This world is beautiful\n",
            "Enter the second sentence: Programming is interesting\n",
            "Words in sentence 1: ['This', 'world', 'is', 'beautiful']\n",
            "Words in sentence 2: ['Programming', 'is', 'interesting']\n",
            "Common words: {'is'}\n",
            "Sanitized sentence 1: This world is beautiful\n",
            "Sanitized sentence 2: Programming is interesting\n",
            "Vowel counts in sentence 1: {'a': 1, 'e': 1, 'i': 3, 'o': 1, 'u': 2, 'A': 0, 'E': 0, 'I': 0, 'O': 0, 'U': 0}\n",
            "Vowel counts in sentence 2: {'a': 1, 'e': 2, 'i': 4, 'o': 1, 'u': 0, 'A': 0, 'E': 0, 'I': 0, 'O': 0, 'U': 0}\n"
          ]
        }
      ],
      "source": [
        "# Your code here\n",
        "import string\n",
        "\n",
        "def string_manipulation():\n",
        "\n",
        "   # (a) Get input sentences from the user\n",
        "   sentence1 = input(\"Enter the first sentence: \")\n",
        "   sentence2 = input(\"Enter the second sentence: \")\n",
        "\n",
        "   # (b) Split sentences into lists of words\n",
        "   words1 = sentence1.split()\n",
        "   words2 = sentence2.split()\n",
        "   print(\"Words in sentence 1:\", words1)\n",
        "   print(\"Words in sentence 2:\", words2)\n",
        "\n",
        "   # (c) Find common words\n",
        "   compare = set(words1) & set(words2)\n",
        "   print(\"Common words:\", compare)\n",
        "\n",
        "   # (d) Remove punctuation\n",
        "   sanitized_sentence1 = \"\".join(c for c in sentence1 if c not in string.punctuation)\n",
        "   sanitized_sentence2 = \"\".join(c for c in sentence2 if c not in string.punctuation)\n",
        "   print(\"Sanitized sentence 1:\", sanitized_sentence1)\n",
        "   print(\"Sanitized sentence 2:\", sanitized_sentence2)\n",
        "\n",
        "   # (e) Count vowels\n",
        "   vowels = \"aeiouAEIOU\"\n",
        "   vowel_counts1 = {v: sentence1.lower().count(v) for v in vowels}\n",
        "   vowel_counts2 = {v: sentence2.lower().count(v) for v in vowels}\n",
        "   print(\"Vowel counts in sentence 1:\", vowel_counts1)\n",
        "   print(\"Vowel counts in sentence 2:\", vowel_counts2)\n",
        "\n",
        "string_manipulation()\n",
        "\n"
      ]
    },
    {
      "cell_type": "markdown",
      "source": [
        "# Question 4 (20 Points)"
      ],
      "metadata": {
        "id": "OP4-5qxAtInv"
      }
    },
    {
      "cell_type": "markdown",
      "source": [
        "Design and implement a simple command-line calculator program. The program should handle both integers and floating-point numbers.\n",
        "\n",
        "(a) Write program that takes a mathematical expression as input and evaluates it. The program should support addition, subtraction, multiplication, and division.\n",
        "\n",
        "(b) Extend the calculator to handle parentheses in mathematical expressions. Implement the necessary logic to evaluate expressions with nested parentheses.\n",
        "\n",
        "(c) Enhance your calculator to include additional mathematical operations such as exponentiation, square root, and modulus.\n",
        "\n",
        "(d) Implement error handling in the calculator program. Handle cases such as division by zero and invalid input expressions. Provide meaningful error messages.\n",
        "\n",
        "(e) Implement a command to exit the calculator."
      ],
      "metadata": {
        "id": "uzN4_hDptK9U"
      }
    },
    {
      "cell_type": "code",
      "source": [
        "# Your code here\n",
        "import math\n",
        "\n",
        "def evaluate_expression(expression):\n",
        "    try:\n",
        "        # Replace ^ with ** for exponentiation\n",
        "        expression = expression.replace(\"^\", \"**\")\n",
        "\n",
        "        # Evaluate the expression\n",
        "        result = eval(expression)\n",
        "        return result\n",
        "    except ZeroDivisionError:\n",
        "        return \"Error: Division by zero\"\n",
        "    except SyntaxError:\n",
        "        return \"Error: Invalid expression\"\n",
        "\n",
        "def main():\n",
        "    print(\"Welcome to the Extended Command-Line Calculator!\")\n",
        "\n",
        "    while True:\n",
        "        expression = input(\"Enter a mathematical expression (or 'exit' to quit): \")\n",
        "\n",
        "        if expression.lower() == 'exit':\n",
        "            print(\"Exiting the calculator.\")\n",
        "            break\n",
        "\n",
        "        # Evaluate the expression recursively until all parentheses are resolved\n",
        "        while '(' in expression:\n",
        "            start_index = expression.rfind('(')\n",
        "            end_index = start_index + expression[start_index:].find(')')\n",
        "            sub_expression = expression[start_index + 1:end_index]\n",
        "            sub_result = evaluate_expression(sub_expression)\n",
        "            expression = expression[:start_index] + str(sub_result) + expression[end_index + 1:]\n",
        "\n",
        "        # Evaluate the final expression\n",
        "        result = evaluate_expression(expression)\n",
        "        print(\"Result:\", result)\n",
        "\n",
        "if __name__ == \"__main__\":\n",
        "    main()\n"
      ],
      "metadata": {
        "id": "8nQnVxjJuYtu",
        "colab": {
          "base_uri": "https://localhost:8080/"
        },
        "outputId": "09359e1f-e64e-4017-bc1a-d8d74ee99107"
      },
      "execution_count": null,
      "outputs": [
        {
          "output_type": "stream",
          "name": "stdout",
          "text": [
            "Welcome to the Extended Command-Line Calculator!\n",
            "Enter a mathematical expression (or 'exit' to quit): 34.455+3*3+349*349.15\n",
            "Result: 121896.805\n",
            "Enter a mathematical expression (or 'exit' to quit): exit\n",
            "Exiting the calculator.\n"
          ]
        }
      ]
    },
    {
      "cell_type": "markdown",
      "metadata": {
        "id": "z3tBE7E-Xn5X"
      },
      "source": [
        "# Question 5 (30 points).\n",
        "\n",
        "In the field of Data Science, data is often formatted as a comma-delimited (CSV) file, where each line in a file corresponds to a field's value. Refer to Chapter 9 (p. 106) for more information on comma-delimited files.\n",
        "\n",
        "To answer this question, you will need to download the file [Assignment1_denton_housing.csv](https://raw.githubusercontent.com/unt-iialab/info5731-spring2022/main/assignments/Assignment1_denton_housing.csv) included with this assignment. The file contains statistics about housing in the city of Denton from 2008 to 2014. Write a program to implement the following questions.\n",
        "\n",
        "(a) (5 pts) Calculate the difference in the number of Occupied Housing Units from year to year and print it. The difference must be calculated for the consecutive years such as 2008-2009, 2009-2010 etc. Finally, print the values in the ascending order.\n",
        "\n",
        "(b) (5 pts) For all the years, calculate the percentage of housing units which are vacant an occupied. Print the results in the following format:\n",
        "\n",
        "Year Vacant Housing Units Occupied Housing Units\n",
        "\n",
        "    2008  30%   70%                          \n",
        "\t2009 ----- -----\n",
        "\t2010 ----- -----\n",
        "    2011 ----- -----\n",
        "\t2012 ----- -----\n",
        "    2013 ----- -----\n",
        "\t2014 ----- -----\n",
        "  \n",
        "  \n",
        "\n",
        "(c) (10 pts) Calculate and print the valued and years in which the highest number of housing units were vacant and occupied. Print the results in the following format:  \n",
        "\n",
        "                              Year\tValue\n",
        "\tVacant Housing Units\t  -----   -----\n",
        "\tOccupied Housing Units\t-----   -----\n",
        "\n",
        "(d) (10 pts) Calculate the harmonic mean of the total housing units and print it out. You can find the information about harmonic mean here: https://ncalculators.com/statistics/harmonic-mean-calculator.htm"
      ]
    },
    {
      "cell_type": "code",
      "execution_count": 2,
      "metadata": {
        "id": "lqGYuHBhcsRH",
        "colab": {
          "base_uri": "https://localhost:8080/"
        },
        "outputId": "27563b36-7a0e-4ace-a59f-aef02b186b57"
      },
      "outputs": [
        {
          "output_type": "stream",
          "name": "stdout",
          "text": [
            "2013-2014 :\n",
            "-2622\n",
            "2012-2013 :\n",
            "-1565\n",
            "2011-2012 :\n",
            "-1404\n",
            "2010-2011 :\n",
            "303\n",
            "2009-2010 :\n",
            "-5091\n",
            "2008-2009 :\n",
            "795\n",
            "------------------------------------------------------------------\n",
            "2008 \t5.73%\t94.27%\n",
            "2009 \t8.8%\t91.2%\n",
            "2010 \t6.68%\t93.32%\n",
            "2011 \t9.38%\t90.62%\n",
            "2012 \t8.14%\t91.86%\n",
            "2013 \t9.07%\t90.93%\n",
            "-----------------------------------------------------------------\n",
            "Maximum Vacant Housing Units:\t 4483\n",
            "Maximum Occupied Housing Units:\t 46295\n",
            "------------------------------------------------------------------\n",
            "\n",
            "Harmonic mean of total housing units: 44398.29\n"
          ]
        }
      ],
      "source": [
        "import pandas as pd\n",
        "df = pd.read_csv('Assignment1_denton_housing-1.csv')\n",
        "df = df[:21]\n",
        "data_1 = df[df['title_field'] == 'Occupied Housing Units']\n",
        "v_ocu = list(data_1['value'])\n",
        "for i in range(len(data_1) - 1):\n",
        "  difference=v_ocu[i+1] - v_ocu[i]\n",
        "  print(str(2013 - i) + '-' + str(2014 - i) + ' :')\n",
        "  print(difference)\n",
        "\n",
        "print('------------------------------------------------------------------')\n",
        "data_2 = df[df['title_field'] == 'Total Housing Units']\n",
        "v_total = list(data_2['value'])\n",
        "data_3 = df[df['title_field'] == 'Vacant Housing Units']\n",
        "v_vac = list(data_3['value'])\n",
        "for i in range(len(data_1) - 1):\n",
        "  p1 = (v_vac[i]/v_total[i])*100\n",
        "  p2 = (v_ocu[i]/v_total[i])*100\n",
        "  print(str(2008 + i) + ' \\t' + str(round(p1,2)) + '%' + '\\t'+ str(round(p2,2)) + '%')\n",
        "print('-----------------------------------------------------------------')\n",
        "v_max_vac= max(v_vac)\n",
        "v_max_occ= max(v_ocu)\n",
        "print(\"Maximum Vacant Housing Units:\\t\",v_max_vac )\n",
        "print(\"Maximum Occupied Housing Units:\\t\",v_max_occ )\n",
        "print('------------------------------------------------------------------')\n",
        "harmonic_mean = len(data_2) /data_2['value'].apply(lambda x: 1 / x).sum()\n",
        "print(f\"\\nHarmonic mean of total housing units: {harmonic_mean:.2f}\")"
      ]
    },
    {
      "cell_type": "code",
      "source": [],
      "metadata": {
        "id": "Io4GZuqmcyqN"
      },
      "execution_count": null,
      "outputs": []
    },
    {
      "cell_type": "markdown",
      "source": [
        "# Mandatory Question\n",
        "\n",
        "Provide your thoughts on the assignment. What did you find challenging, and what aspects did you enjoy? Your opinion on the provided time to complete the assignment. Share any suggestions for improvement. Your feedback will be valuable for enhancing the learning experience."
      ],
      "metadata": {
        "id": "q8BFCvWp32cf"
      }
    },
    {
      "cell_type": "code",
      "source": [
        "# Write your response below\n",
        "# The last question was really challenging!"
      ],
      "metadata": {
        "id": "_e557s2w4BpK"
      },
      "execution_count": null,
      "outputs": []
    }
  ],
  "metadata": {
    "colab": {
      "provenance": [],
      "include_colab_link": true
    },
    "kernelspec": {
      "display_name": "Python 3 (ipykernel)",
      "language": "python",
      "name": "python3"
    },
    "language_info": {
      "codemirror_mode": {
        "name": "ipython",
        "version": 3
      },
      "file_extension": ".py",
      "mimetype": "text/x-python",
      "name": "python",
      "nbconvert_exporter": "python",
      "pygments_lexer": "ipython3",
      "version": "3.9.12"
    }
  },
  "nbformat": 4,
  "nbformat_minor": 0
}