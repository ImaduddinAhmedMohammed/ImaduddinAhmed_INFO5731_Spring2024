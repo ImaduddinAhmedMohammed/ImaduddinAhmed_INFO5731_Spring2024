{
  "cells": [
    {
      "cell_type": "markdown",
      "metadata": {
        "id": "view-in-github",
        "colab_type": "text"
      },
      "source": [
        "<a href=\"https://colab.research.google.com/github/ImaduddinAhmedMohammed/ImaduddinAhmed_INFO5731_Spring2024/blob/main/Mohammed_Imad_Exercise_01.ipynb\" target=\"_parent\"><img src=\"https://colab.research.google.com/assets/colab-badge.svg\" alt=\"Open In Colab\"/></a>"
      ]
    },
    {
      "cell_type": "markdown",
      "metadata": {
        "id": "DymRJbxDBCnf"
      },
      "source": [
        "# **This first In-class-exercise cover a variety of fundamental concepts in Python and are designed to help individuals improve their coding skills and problem-solving abilities.**\n",
        "\n",
        "The submission is due on 01/31/2024 11:59 PM. This submission is worth 40 points in total.\n"
      ]
    },
    {
      "cell_type": "markdown",
      "source": [
        "(1) Write a Python program that  prompts the user to input the length and width of a rectangle, and then calculates and displays the area of the rectangle."
      ],
      "metadata": {
        "id": "FBKvD6O_TY6e"
      }
    },
    {
      "cell_type": "code",
      "source": [
        "# write your answer here                 #without using functions\n",
        "length= float(input(\"Input the length\")) #asks the user for length\n",
        "width= float(input(\"Input the width\"))   #asks the user for width\n",
        "area= length*width\n",
        "print(\"The area of rectangle is:\", area)"
      ],
      "metadata": {
        "id": "cikVKDXdTbzE",
        "colab": {
          "base_uri": "https://localhost:8080/"
        },
        "outputId": "9814c978-7ff0-480c-f280-47703d316933"
      },
      "execution_count": null,
      "outputs": [
        {
          "output_type": "stream",
          "name": "stdout",
          "text": [
            "Input the length10\n",
            "Input the width20\n",
            "The area of rectangle is: 200.0\n"
          ]
        }
      ]
    },
    {
      "cell_type": "markdown",
      "source": [
        "(2) Create a Python program that interactively takes two numerical inputs from the user and swaps their values without utilizing an extra variable."
      ],
      "metadata": {
        "id": "E9RqrlwdTfvl"
      }
    },
    {
      "cell_type": "code",
      "source": [
        "# write your answer here\n",
        "a= float(input(\"Enter the first number:\")) #user input\n",
        "b= float(input(\"Enter the second number:\")) #user input\n",
        "a,b=b,a            #swapping the numerical inputs\n",
        "print(\"The first number is:\",a)\n",
        "print(\"The second number is:\",b)"
      ],
      "metadata": {
        "id": "4XvRknixTh1g",
        "colab": {
          "base_uri": "https://localhost:8080/"
        },
        "outputId": "ebd571d7-b75e-4d84-ac6c-d6d851453dc6"
      },
      "execution_count": null,
      "outputs": [
        {
          "output_type": "stream",
          "name": "stdout",
          "text": [
            "Enter the first number:56\n",
            "Enter the second number:35\n",
            "The first number is: 35.0\n",
            "The second number is: 56.0\n"
          ]
        }
      ]
    },
    {
      "cell_type": "markdown",
      "metadata": {
        "id": "03jb4GZsBkBS"
      },
      "source": [
        "(3) Write a Python script to determine and print the length of a user-input string."
      ]
    },
    {
      "cell_type": "code",
      "execution_count": null,
      "metadata": {
        "id": "YaGLbSHHB8Ej",
        "colab": {
          "base_uri": "https://localhost:8080/"
        },
        "outputId": "7eb37ebc-f552-40ca-f7a9-940ecda66cbb"
      },
      "outputs": [
        {
          "output_type": "stream",
          "name": "stdout",
          "text": [
            "Enter a sentence:hello world\n",
            "Length of string is: 11\n"
          ]
        }
      ],
      "source": [
        "# write your answer here\n",
        "A= str(input(\"Enter a sentence:\")) #User Input\n",
        "print(\"Length of string is:\",len(A)) #Using len() function to determine the length of string"
      ]
    },
    {
      "cell_type": "markdown",
      "metadata": {
        "id": "jJDe71iLB616"
      },
      "source": [
        "(4) Construct a Python program that counts and displays the occurrences of each character in a given string.\n",
        "\n",
        "Sample String: 'openai.ai',\n",
        "\n",
        "Expected Result: {'a': 2, 'i': 2, '.': 1, 'o': 1, 'p': 1, 'e': 1, 'n': 1}"
      ]
    },
    {
      "cell_type": "code",
      "execution_count": null,
      "metadata": {
        "id": "MtKskTzbCLaU",
        "colab": {
          "base_uri": "https://localhost:8080/"
        },
        "outputId": "ff88bc35-c8d3-477c-9195-cbc1974e1c88"
      },
      "outputs": [
        {
          "output_type": "stream",
          "name": "stdout",
          "text": [
            "Count of each character in the sample string is:{'o': 1, 'p': 1, 'e': 1, 'n': 1, 'a': 2, 'i': 2, '.': 1}\n"
          ]
        }
      ],
      "source": [
        "# write your answer here\n",
        "sample_string=\"openai.ai\"   #inputing the sample string\n",
        "count={}                    #creating a set to count the occurences\n",
        "for i in sample_string:     #loop to count the the number of occurences and increasing the count\n",
        "  if i in count:            #iterating if condition to see if the character repeats\n",
        "      count[i]+=1\n",
        "  else:\n",
        "      count[i]=1\n",
        "print(\"Count of each character in the sample string is:\"+str(count))"
      ]
    },
    {
      "cell_type": "markdown",
      "metadata": {
        "id": "55W9AMdXCSpV"
      },
      "source": [
        "(5) Design a Python code to calculate the sum of all elements in a user-provided list."
      ]
    },
    {
      "cell_type": "code",
      "execution_count": null,
      "metadata": {
        "id": "I57NXsauCec2",
        "colab": {
          "base_uri": "https://localhost:8080/"
        },
        "outputId": "7a0f9235-829b-45aa-b419-9bfdb0aba864"
      },
      "outputs": [
        {
          "output_type": "stream",
          "name": "stdout",
          "text": [
            "Sum of Elements in the list: [1, 23, 119, 312, 0.15]  is:\n",
            " 455.15\n"
          ]
        }
      ],
      "source": [
        "# write your answer here\n",
        "def Sum_of_elements(ulist):     #creating a function\n",
        "  sum=0                         #creating a variable to find the summation\n",
        "  for num in ulist:             #initialising a variable in loop to count\n",
        "    sum+=num                    #Add the numbers in the list\n",
        "  return sum\n",
        "ulist=[1,23,119,312,0.15]       #User provided list\n",
        "sum=Sum_of_elements(ulist)\n",
        "print(\"Sum of Elements in the list:\",ulist,\" is:\\n\",sum)"
      ]
    },
    {
      "cell_type": "markdown",
      "metadata": {
        "id": "4ulBZ6yhCi9F"
      },
      "source": [
        "(6) Write a Python program that modifies a given string by replacing all occurrences of its first character with '$', excluding the first character itself.\n",
        "\n",
        "\n",
        "Sample String : 'restart‘,\n",
        "\n",
        "Expected Result : 'resta\\$t'"
      ]
    },
    {
      "cell_type": "code",
      "execution_count": null,
      "metadata": {
        "id": "Fj0XhwbBCw2o",
        "colab": {
          "base_uri": "https://localhost:8080/"
        },
        "outputId": "5a7bf0ff-aaa2-4120-a31a-08286ad16649"
      },
      "outputs": [
        {
          "output_type": "stream",
          "name": "stdout",
          "text": [
            "Original string: restart\n",
            "\n",
            "Replaced string: resta$t\n"
          ]
        }
      ],
      "source": [
        "# write your answer here\n",
        "def replace(character):\n",
        "  if not character:\n",
        "    return character\n",
        "  first_character=character[0]\n",
        "  replaced_string= first_character+character[1:].replace(first_character,'$')\n",
        "  return replaced_string\n",
        "string=\"restart\"\n",
        "replaced_string= replace(string)\n",
        "print(\"Original string:\",string)\n",
        "print(\"\\nReplaced string:\",replaced_string)\n"
      ]
    },
    {
      "cell_type": "markdown",
      "source": [
        "(7) Write a Python program using a while loop to compute the factorial of a user-supplied number."
      ],
      "metadata": {
        "id": "qVXA3q7ET5JI"
      }
    },
    {
      "cell_type": "code",
      "source": [
        "# write your answer here\n",
        "def factorial(n):\n",
        "  if n<0:\n",
        "    return \"error\"\n",
        "  fact=1\n",
        "  while n>0:\n",
        "    fact*=n\n",
        "    n-=1\n",
        "  return fact\n",
        "Number=int(input(\"Enter the Number:\"))\n",
        "fact=factorial(Number)\n",
        "print(f\"The factorial of {Number} is: {fact}\")"
      ],
      "metadata": {
        "id": "Lbt7R6UkT7BA",
        "colab": {
          "base_uri": "https://localhost:8080/"
        },
        "outputId": "d32e1b28-bb12-484a-a2ea-7c25f765cdf7"
      },
      "execution_count": null,
      "outputs": [
        {
          "output_type": "stream",
          "name": "stdout",
          "text": [
            "Enter the Number:10\n",
            "The factorial of 10 is: 3628800\n"
          ]
        }
      ]
    },
    {
      "cell_type": "markdown",
      "source": [
        "(8) Create a program that accepts a list of numbers as input and outputs a new list containing only the even numbers."
      ],
      "metadata": {
        "id": "6YfbzXMNT--R"
      }
    },
    {
      "cell_type": "code",
      "source": [
        "# write your answer here\n",
        "def filter_even_numbers():\n",
        "  numbers = []\n",
        "  num_element = int(input(\"Enter the number of elements in the list: \"))\n",
        "\n",
        "  for i in range(num_element):\n",
        "    element = int(input(f\"Enter element {i+1}: \"))\n",
        "    numbers.append(element)\n",
        "\n",
        "  even_numbers = [num for num in numbers if num % 2 == 0]  # List comprehension for even numbers\n",
        "\n",
        "  print(\"Original list:\", numbers)\n",
        "  print(\"List of even numbers:\", even_numbers)\n",
        "filter_even_numbers()"
      ],
      "metadata": {
        "id": "54q7wMQPUAKu",
        "colab": {
          "base_uri": "https://localhost:8080/"
        },
        "outputId": "9c2bf677-d978-4873-bdc5-454cda429304"
      },
      "execution_count": null,
      "outputs": [
        {
          "output_type": "stream",
          "name": "stdout",
          "text": [
            "Enter the number of elements in the list: 4\n",
            "Enter element 1: 1\n",
            "Enter element 2: 2\n",
            "Enter element 3: 3\n",
            "Enter element 4: 4\n",
            "Original list: [1, 2, 3, 4]\n",
            "List of even numbers: [2, 4]\n"
          ]
        }
      ]
    },
    {
      "cell_type": "markdown",
      "metadata": {
        "id": "_bIP7s1MCzue"
      },
      "source": [
        "\n",
        "(9) Design a Python function to check if a number is prime.\n"
      ]
    },
    {
      "cell_type": "code",
      "execution_count": null,
      "metadata": {
        "id": "w79QilHXD3Mg",
        "colab": {
          "base_uri": "https://localhost:8080/"
        },
        "outputId": "941c0b55-7607-4e0f-9ace-c0a34c798aef"
      },
      "outputs": [
        {
          "output_type": "stream",
          "name": "stdout",
          "text": [
            "Enter a number: 7\n",
            "7 is a prime number.\n"
          ]
        }
      ],
      "source": [
        "# write your answer here\n",
        "def is_prime(num):\n",
        "  if num <= 1:\n",
        "    return False\n",
        "  elif num <= 3:\n",
        "    return True\n",
        "  elif num % 2 == 0 or num % 3 == 0:\n",
        "    return False\n",
        "  i = 5\n",
        "  while i * i <= num:\n",
        "    if num % i == 0 or num % (i + 2) == 0:\n",
        "      return False\n",
        "    i += 6\n",
        "  return True\n",
        "number = int(input(\"Enter a number: \"))\n",
        "if is_prime(number):\n",
        "  print(f\"{number} is a prime number.\")\n",
        "else:\n",
        "  print(f\"{number} is not a prime number.\")\n"
      ]
    },
    {
      "cell_type": "markdown",
      "metadata": {
        "id": "xCa2bK9aD4Q3"
      },
      "source": [
        "(10) Write a Python program to concatenate following dictionaries to create a new one.\n",
        "\n",
        "Sample Dictionary : dic1={1:10, 2:20}, dic2={3:30, 4:40}, dic3={5:50,6:60},\n",
        "\n",
        "Expected Result : {1: 10, 2: 20, 3: 30, 4: 40, 5: 50, 6: 60}\n"
      ]
    },
    {
      "cell_type": "code",
      "execution_count": null,
      "metadata": {
        "id": "_z4aLqAbEET1",
        "colab": {
          "base_uri": "https://localhost:8080/"
        },
        "outputId": "948d2fd4-85c3-4ca7-f35a-5b114001cbcc"
      },
      "outputs": [
        {
          "output_type": "stream",
          "name": "stdout",
          "text": [
            "Concatenated Dictionary: {1: 10, 2: 20, 3: 30, 4: 40, 5: 50, 6: 60}\n"
          ]
        }
      ],
      "source": [
        "# write your answer here\n",
        "dic1={1:10, 2:20}\n",
        "dic2={3:30, 4:40}\n",
        "dic3={5:50,6:60}\n",
        "new_dict = {}\n",
        "for d in (dic1, dic2, dic3):\n",
        "  new_dict.update(d)\n",
        "print(\"Concatenated Dictionary:\", new_dict)"
      ]
    },
    {
      "cell_type": "markdown",
      "source": [
        "(11) Design a Python function that takes a tuple of integers as input and returns the largest and smallest elements."
      ],
      "metadata": {
        "id": "bkyZ2xSZUOst"
      }
    },
    {
      "cell_type": "code",
      "source": [
        "# write your answer here\n",
        "def find_min_max():\n",
        "  num_elements = int(input(\"Enter the number of elements in the tuple: \"))\n",
        "  data = tuple(int(input(f\"Enter element {i+1}: \")) for i in range(num_elements))\n",
        "  if not data:\n",
        "    raise ValueError(\"Input tuple cannot be empty.\")\n",
        "  min_value = max_value = data[0]\n",
        "  for num in data:\n",
        "    min_value = min(min_value, num)\n",
        "    max_value = max(max_value, num)\n",
        "  return min_value, max_value\n",
        "try:\n",
        "  min_value, max_value = find_min_max()\n",
        "  print(\"Minimum:\", min_value)\n",
        "  print(\"Maximum:\", max_value)\n",
        "except ValueError as err:\n",
        "  print(err)\n"
      ],
      "metadata": {
        "id": "3FdLRBKOUQEd",
        "colab": {
          "base_uri": "https://localhost:8080/"
        },
        "outputId": "c75b00d7-eb5d-45c9-8d65-9749bf5a4abf"
      },
      "execution_count": null,
      "outputs": [
        {
          "output_type": "stream",
          "name": "stdout",
          "text": [
            "Enter the number of elements in the tuple: 4\n",
            "Enter element 1: 12\n",
            "Enter element 2: 1\n",
            "Enter element 3: 32\n",
            "Enter element 4: 122\n",
            "Minimum: 1\n",
            "Maximum: 122\n"
          ]
        }
      ]
    },
    {
      "cell_type": "markdown",
      "source": [
        "(12) Write a Python program that counts the frequency of each character in a given string and stores it in a dictionary."
      ],
      "metadata": {
        "id": "O0TVi3gKUTpp"
      }
    },
    {
      "cell_type": "code",
      "source": [
        "# write your answer here\n",
        "def char_frequency():\n",
        " string = input(\"Enter a string: \")\n",
        " char_counts = {}\n",
        " for char in string:\n",
        "   if char in char_counts:\n",
        "     char_counts[char] += 1\n",
        "   else:\n",
        "     char_counts[char] = 1\n",
        " print(\"Character frequencies:\", char_counts)\n",
        "char_frequency()"
      ],
      "metadata": {
        "id": "lAtfSfZXUU-h",
        "colab": {
          "base_uri": "https://localhost:8080/"
        },
        "outputId": "ceabbea9-df89-4449-8f84-56b6f710395c"
      },
      "execution_count": null,
      "outputs": [
        {
          "output_type": "stream",
          "name": "stdout",
          "text": [
            "Enter a string: 1 2 3 1 4 5 5 2 5\n",
            "Character frequencies: {'1': 2, ' ': 8, '2': 2, '3': 1, '4': 1, '5': 3}\n"
          ]
        }
      ]
    },
    {
      "cell_type": "markdown",
      "metadata": {
        "id": "0v48Vqa7FrQh"
      },
      "source": [
        "(13) Implement a Python script to identify duplicate elements in a provided array of integers. Return -1 if there are no duplicates."
      ]
    },
    {
      "cell_type": "code",
      "execution_count": null,
      "metadata": {
        "id": "7WEmgq-DF2P1",
        "colab": {
          "base_uri": "https://localhost:8080/"
        },
        "outputId": "596f935f-c02c-4294-d106-907e2bbb1caf"
      },
      "outputs": [
        {
          "output_type": "stream",
          "name": "stdout",
          "text": [
            "Enter the number of elements in the array: 3\n",
            "Enter element 1: 1\n",
            "Enter element 2: 2\n",
            "Enter element 3: 3\n",
            "-1\n"
          ]
        }
      ],
      "source": [
        "# write your answer here\n",
        "def find_duplicates():\n",
        " num_elements = int(input(\"Enter the number of elements in the array: \"))\n",
        " arr = []\n",
        " for i in range(num_elements):\n",
        "   element = int(input(f\"Enter element {i+1}: \"))\n",
        "   arr.append(element)\n",
        " dup = set()\n",
        " duplicate = -1\n",
        " for num in arr:\n",
        "   if num in dup:\n",
        "     duplicate = num\n",
        "     break\n",
        "   dup.add(num)\n",
        " if duplicate != -1:\n",
        "   print(f\"Duplicate element: {duplicate}\")\n",
        " else:\n",
        "   print(\"-1\")\n",
        "find_duplicates()\n"
      ]
    },
    {
      "cell_type": "markdown",
      "metadata": {
        "id": "vD5PYLMuGga_"
      },
      "source": [
        "(14) Write a Python script to find the common elements between two lists."
      ]
    },
    {
      "cell_type": "code",
      "execution_count": null,
      "metadata": {
        "id": "t0D5kdJUGjjw",
        "colab": {
          "base_uri": "https://localhost:8080/"
        },
        "outputId": "1c88c452-3941-4357-9ef3-8a6423bd0b2d"
      },
      "outputs": [
        {
          "output_type": "stream",
          "name": "stdout",
          "text": [
            "Enter the number of elements in the first list: 3\n",
            "Enter element 1 for list 1: 1\n",
            "Enter element 2 for list 1: 1\n",
            "Enter element 3 for list 1: 2\n",
            "Enter the number of elements in the second list: 4\n",
            "Enter element 1 for list 2: 1\n",
            "Enter element 2 for list 2: 2\n",
            "Enter element 3 for list 2: 3\n",
            "Enter element 4 for list 2: 4\n",
            "Common elements: {1, 2}\n"
          ]
        }
      ],
      "source": [
        "# write your answer here\n",
        "def find_common_elements():\n",
        "  num_elements1 = int(input(\"Enter the number of elements in the first list: \"))\n",
        "  list1 = []\n",
        "  for i in range(num_elements1):\n",
        "    element = int(input(f\"Enter element {i+1} for list 1: \"))\n",
        "    list1.append(element)\n",
        "  num_elements2 = int(input(\"Enter the number of elements in the second list: \"))\n",
        "  list2 = []\n",
        "  for i in range(num_elements2):\n",
        "    element = int(input(f\"Enter element {i+1} for list 2: \"))\n",
        "    list2.append(element)\n",
        "  common_elements = set(list1) & set(list2)\n",
        "  print(\"Common elements:\", common_elements)\n",
        "find_common_elements()\n"
      ]
    },
    {
      "cell_type": "markdown",
      "metadata": {
        "id": "uHkd-y5VhVWC"
      },
      "source": [
        "(15) Write a Python program to randomly divide the students in this class into six groups for term projects, each group should have at least 4 students but no more than 6 students (including 6).\n",
        "\n",
        "Here is the students list:\n",
        "\n",
        "student_list_spring_2024=[rb0846,\n",
        "ac1964,\n",
        "hc0612,\n",
        "md0912,\n",
        "ad1198,\n",
        "md0894,\n",
        "md0825,\n",
        "vg0598,\n",
        "vg0433,\n",
        "mh1068,\n",
        "yj0173,\n",
        "pk0553,\n",
        "tk0411,\n",
        "srk0204,\n",
        "sk2922,\n",
        "sk2936,\n",
        "mk1302,\n",
        "mk1317,\n",
        "tk0412,\n",
        "vk0656,\n",
        "sm2985,\n",
        "mm2372,\n",
        "un0045,\n",
        "an0892,\n",
        "sn0913,\n",
        "gp0252,\n",
        "ap1484,\n",
        "mr1765,\n",
        "sr1385,\n",
        "sr1335,\n",
        "hs0665,\n",
        "ms2060,\n",
        "gt0217,\n",
        "nt0385,\n",
        "tv0186,\n",
        "sv1394,\n",
        "sv1752,\n",
        "sv1555,\n",
        "sy0594\n",
        "]\n"
      ]
    },
    {
      "cell_type": "code",
      "execution_count": null,
      "metadata": {
        "id": "3iGbmcOBhTwy",
        "colab": {
          "base_uri": "https://localhost:8080/"
        },
        "outputId": "1c089a32-cd96-4620-8a5e-1fd7ba131be0"
      },
      "outputs": [
        {
          "output_type": "stream",
          "name": "stdout",
          "text": [
            "Group assignments:\n",
            "Group 1: tv0186, sk2936, vk0656, sr1335, un0045\n",
            "Group 2: mk1317, md0894, vg0598, hc0612, ac1964\n",
            "Group 3: sm2985, sv1555, yj0173, ad1198, sk2922\n",
            "Group 4: tk0411, sv1394, nt0385, mm2372, srk0204\n",
            "Group 5: md0912, rb0846, an0892, pk0553, mh1068\n",
            "Group 6: gp0252, tk0412, gt0217, ap1484, sv1752\n",
            "Group 7: ms2060, vg0433, sr1385, mk1302, sy0594\n",
            "Group 8: sn0913, md0825, mr1765, hs0665\n"
          ]
        }
      ],
      "source": [
        "# write your answer here\n",
        "import random\n",
        "def random_groups(students, min_group_size=4, max_group_size=6):\n",
        "  if not students:\n",
        "    return {}\n",
        "  random.shuffle(students)\n",
        "  groups = {}\n",
        "  current_group = 1\n",
        "  group_size = 0\n",
        "  for student in students:\n",
        "    group_size += 1\n",
        "    if group_size > max_group_size or (current_group < len(students)//min_group_size and group_size == max_group_size):\n",
        "      current_group += 1\n",
        "      group_size = 1\n",
        "    groups.setdefault(current_group, []).append(student)\n",
        "  return groups\n",
        "student_list_spring_2024=[\"rb0846\", \"ac1964\", \"hc0612\", \"md0912\", \"ad1198\", \"md0894\", \"md0825\", \"vg0598\", \"vg0433\", \"mh1068\", \"yj0173\", \"pk0553\", \"tk0411\", \"srk0204\", \"sk2922\", \"sk2936\", \"mk1302\", \"mk1317\", \"tk0412\", \"vk0656\", \"sm2985\", \"mm2372\", \"un0045\", \"an0892\", \"sn0913\", \"gp0252\", \"ap1484\", \"mr1765\", \"sr1385\", \"sr1335\", \"hs0665\", \"ms2060\", \"gt0217\", \"nt0385\", \"tv0186\", \"sv1394\", \"sv1752\", \"sv1555\", \"sy0594\" ]\n",
        "group_assignments = random_groups(student_list_spring_2024)\n",
        "print(\"Group assignments:\")\n",
        "for group_num, members in group_assignments.items():\n",
        "  print(f\"Group {group_num}: {', '.join(members)}\")\n"
      ]
    },
    {
      "cell_type": "markdown",
      "metadata": {
        "id": "fmZ9vX20Qs3d"
      },
      "source": [
        "(16) Create a program that takes a positive integer 'n' as input and prints the count of even numbers from 1 to 'n'. Optimize the loop using the break statement."
      ]
    },
    {
      "cell_type": "code",
      "execution_count": null,
      "metadata": {
        "id": "W8Jw6sWMQs3d",
        "colab": {
          "base_uri": "https://localhost:8080/"
        },
        "outputId": "addec37b-aa6e-40fd-9a58-79077f8fed60"
      },
      "outputs": [
        {
          "output_type": "stream",
          "name": "stdout",
          "text": [
            "Enter a positive integer: 10\n",
            "Count of even numbers: 5\n"
          ]
        }
      ],
      "source": [
        "# write your answer here\n",
        "def count_even_numbers():\n",
        "  n = int(input(\"Enter a positive integer: \"))\n",
        "  if n <= 0:\n",
        "    print(\"Invalid input. Please enter a positive integer.\")\n",
        "    return\n",
        "  count = 0\n",
        "  i = 1\n",
        "  while i <= n:\n",
        "    if i % 2 == 0:\n",
        "      count += 1\n",
        "      if i == n:\n",
        "        break\n",
        "    i += 1\n",
        "  print(\"Count of even numbers:\", count)\n",
        "count_even_numbers()\n"
      ]
    },
    {
      "cell_type": "markdown",
      "metadata": {
        "id": "hvq4APMhQs3d"
      },
      "source": [
        "(17) Develop a Python function called 'count_vowels' that takes a string as input and returns the count of vowels (both lowercase and uppercase) present in the string, ignoring spaces and non-alphabetic characters."
      ]
    },
    {
      "cell_type": "code",
      "execution_count": null,
      "metadata": {
        "id": "ZnoxhSglQs3d",
        "colab": {
          "base_uri": "https://localhost:8080/"
        },
        "outputId": "9999e65c-e6a5-4c8b-f3df-b468df9eb49a"
      },
      "outputs": [
        {
          "output_type": "stream",
          "name": "stdout",
          "text": [
            "Enter a string: imad\n",
            "Number of vowels: 2\n"
          ]
        }
      ],
      "source": [
        "# write your answer here\n",
        "def count_vowels(text):\n",
        "  vowels = \"aeiouAEIOU\"\n",
        "  vowels_count = 0\n",
        "  for char in text:\n",
        "    if char.isalpha() and char in vowels:\n",
        "      vowels_count += 1\n",
        "  return vowels_count\n",
        "string = input(\"Enter a string: \")\n",
        "num_vowels = count_vowels(string)\n",
        "print(\"Number of vowels:\", num_vowels)"
      ]
    },
    {
      "cell_type": "markdown",
      "source": [
        "(18) Create a custom exception named ValueTooSmallError in Python. Write a program that takes user input for an age, and if the entered age is less than 18, raise the ValueTooSmallError with an appropriate error message."
      ],
      "metadata": {
        "id": "55FWoSJPVVM6"
      }
    },
    {
      "cell_type": "code",
      "source": [
        "# write your answer here\n",
        "class ValueTooSmallError(Exception):\n",
        "    def __init__(self, message):\n",
        "        super().__init__(message)\n",
        "def check_age(age):\n",
        "    if age < 18:\n",
        "        raise ValueTooSmallError(\"Age must be 18 or older.\")\n",
        "try:\n",
        "    age = int(input(\"Enter your age: \"))\n",
        "    check_age(age)\n",
        "    print(\"Age is valid.\")\n",
        "except ValueTooSmallError as e:\n",
        "    print(e)\n"
      ],
      "metadata": {
        "id": "hwtr1wZmVX5A",
        "colab": {
          "base_uri": "https://localhost:8080/"
        },
        "outputId": "7d09952f-aef1-4066-b5ad-c27647cab980"
      },
      "execution_count": null,
      "outputs": [
        {
          "output_type": "stream",
          "name": "stdout",
          "text": [
            "Enter your age: 12\n",
            "Age must be 18 or older.\n"
          ]
        }
      ]
    },
    {
      "cell_type": "markdown",
      "source": [
        "(19) Develop a script that reverses a given string without using built-in reverse functions."
      ],
      "metadata": {
        "id": "Q9ecagcaVazW"
      }
    },
    {
      "cell_type": "code",
      "source": [
        "# write your answer here\n",
        "def reverse_string(text):\n",
        "    reversed_str=\"\"\n",
        "    for char in text[::-1]:\n",
        "        reversed_str += char\n",
        "    return reversed_str\n",
        "text = input(\"Enter a string: \")\n",
        "reversed_text = reverse_string(text)\n",
        "print(\"Reversed string:\", reversed_text)"
      ],
      "metadata": {
        "id": "gycgckoAVZjR",
        "colab": {
          "base_uri": "https://localhost:8080/"
        },
        "outputId": "de30c1b0-5902-4433-9023-10acd6bf7b42"
      },
      "execution_count": null,
      "outputs": [
        {
          "output_type": "stream",
          "name": "stdout",
          "text": [
            "Enter a string: mad\n",
            "Reversed string: dam\n"
          ]
        }
      ]
    },
    {
      "cell_type": "markdown",
      "source": [
        "(20) Implement a Python script to generate a random password of a specified length."
      ],
      "metadata": {
        "id": "ZFG6RibifMLu"
      }
    },
    {
      "cell_type": "code",
      "source": [
        "# write your answer hereimport random\n",
        "import random\n",
        "import string\n",
        "def generate_password(length):\n",
        "  characters = string.ascii_letters + string.digits + string.punctuation\n",
        "  password = \"\".join(random.choice(characters) for i in range(length))\n",
        "  return password\n",
        "password_length = int(input(\"Enter the desired password length: \"))\n",
        "password = generate_password(password_length)\n",
        "print(\"Generated password:\", password)\n"
      ],
      "metadata": {
        "id": "BFVrkEi9fNiD",
        "colab": {
          "base_uri": "https://localhost:8080/"
        },
        "outputId": "b7d3d904-a617-4215-e3b8-5ddb34baae29"
      },
      "execution_count": null,
      "outputs": [
        {
          "output_type": "stream",
          "name": "stdout",
          "text": [
            "Enter the desired password length: 5\n",
            "Generated password: f$nTA\n"
          ]
        }
      ]
    },
    {
      "cell_type": "markdown",
      "source": [
        "# Try these questions:"
      ],
      "metadata": {
        "id": "6SmvS7nSfbj8"
      }
    },
    {
      "cell_type": "markdown",
      "source": [
        "(21) Define a base class called 'Vehicle' with attributes make and model. Create a derived class Car that inherits from Vehicle and has an additional attribute 'num_doors'. Demonstrate an example of creating an instance of the 'Car' class and accessing its attributes."
      ],
      "metadata": {
        "id": "cboAr5pEWUf5"
      }
    },
    {
      "cell_type": "code",
      "source": [
        "# write your answer here\n"
      ],
      "metadata": {
        "id": "phs9gciMWWAW"
      },
      "execution_count": null,
      "outputs": []
    },
    {
      "cell_type": "markdown",
      "source": [
        "(22) Create a class called 'Shape' with a method calculate_area(). Implement two derived classes 'Circle' and 'Rectangle' that inherit from Shape and override the calculate_area() method. Demonstrate polymorphism by creating instances of both derived classes and calling the calculate_area() method."
      ],
      "metadata": {
        "id": "J8HHefNtePwd"
      }
    },
    {
      "cell_type": "code",
      "source": [
        "# write your answer here"
      ],
      "metadata": {
        "id": "btnMmUZDeRhS"
      },
      "execution_count": null,
      "outputs": []
    },
    {
      "cell_type": "markdown",
      "source": [
        "(23) Write a Python program that prompts the user to enter two numbers and perform a division operation. Handle exceptions for both zero division and invalid input (non-numeric input). Display appropriate error messages for each type of exception and ensure the program does not crash due to these errors."
      ],
      "metadata": {
        "id": "z0oqEAlTeMUS"
      }
    },
    {
      "cell_type": "code",
      "source": [
        "# write your answer here"
      ],
      "metadata": {
        "id": "yjdc1zM1eMAs"
      },
      "execution_count": null,
      "outputs": []
    },
    {
      "cell_type": "markdown",
      "source": [
        "# Mandatory Question"
      ],
      "metadata": {
        "id": "sZOhks1dXWEe"
      }
    },
    {
      "cell_type": "markdown",
      "source": [
        "**Important:**\n",
        "Reflecting on the first three lectures and the exercises you've completed, please provide feedback on your learning experience. Share your thoughts on whether the material covered was clear, the exercises were helpful, and if you feel more confident in applying Python programming concepts. Additionally, mention any specific areas where you would like more clarification or topics you would like to explore further in future lectures. Your feedback is valuable in shaping the course for an effective learning journey."
      ],
      "metadata": {
        "id": "eqmHVEwaWhbV"
      }
    },
    {
      "cell_type": "markdown",
      "source": [
        "Write your response here."
      ],
      "metadata": {
        "id": "HlpXOT9wXQAd"
      }
    },
    {
      "cell_type": "code",
      "source": [
        "The class was a bit quick and had to put effort to code. Taking a bit to learn since implementation of theory in practical solutions is a bot tough. Getting to learn a lot though. Hope to learn a lot more from this."
      ],
      "metadata": {
        "id": "Dq2aOZU7XIke"
      },
      "execution_count": null,
      "outputs": []
    }
  ],
  "metadata": {
    "colab": {
      "provenance": [],
      "include_colab_link": true
    },
    "kernelspec": {
      "display_name": "Python 3 (ipykernel)",
      "language": "python",
      "name": "python3"
    },
    "language_info": {
      "codemirror_mode": {
        "name": "ipython",
        "version": 3
      },
      "file_extension": ".py",
      "mimetype": "text/x-python",
      "name": "python",
      "nbconvert_exporter": "python",
      "pygments_lexer": "ipython3",
      "version": "3.9.12"
    }
  },
  "nbformat": 4,
  "nbformat_minor": 0
}